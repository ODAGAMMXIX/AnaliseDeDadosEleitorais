{
 "cells": [
  {
   "cell_type": "code",
   "execution_count": null,
   "metadata": {},
   "outputs": [],
   "source": []
  },
  {
   "cell_type": "code",
   "execution_count": 44,
   "metadata": {},
   "outputs": [
    {
     "data": {
      "text/plain": [
       "<AxesSubplot:>"
      ]
     },
     "execution_count": 44,
     "metadata": {},
     "output_type": "execute_result"
    },
    {
     "data": {
      "image/png": "[encoded data removed]",
      "text/plain": [
       "<Figure size 432x288 with 1 Axes>"
      ]
     },
     "metadata": {
      "needs_background": "light"
     },
     "output_type": "display_data"
    }
   ],
   "source": [
    "# 4.5\n",
    "import pandas as pd\n",
    "import plotly.graph_objects as go\n",
    "from cobertura import abrangencia\n",
    "import csv\n",
    "\n",
    "csvPerfilEleitorado2020 = './dados/perfil_eleitorado_2020.csv'\n",
    "\n",
    "dataPerfilEleitorado2020 = pd.read_csv(csvPerfilEleitorado2020, sep= ';', encoding='ISO-8859-1')\n",
    "\n",
    "def createQuery(list):\n",
    "        count = 0\n",
    "        query = \"\"\n",
    "\n",
    "        for abr_code in list:\n",
    "                query += 'CD_MUNICIPIO == ' + str(abr_code[\"codigo\"])\n",
    "                count += 1\n",
    "                if count < len(list):\n",
    "                        query += ' or '\n",
    "        return query\n",
    "\n",
    "query = createQuery(abrangencia)\n",
    "\n",
    "dfPerfilEleitorado2020 = pd.DataFrame(data = dataPerfilEleitorado2020.query(query), columns=['CD_MUNICIPIO', 'DS_FAIXA_ETARIA', 'QT_ELEITORES_PERFIL'])\n",
    "dfm = pd.DataFrame(columns=[\"REGIÃO\", \"MUNICÍPIO\", \"TOTAL JOVENS\", \"TOTAL IDOSOS\"])\n",
    "listResults = []\n",
    "\n",
    "\n",
    "for abr_code in abrangencia:\n",
    "        filtroCidade = dfPerfilEleitorado2020.query('CD_MUNICIPIO == ' + str(abr_code[\"codigo\"]))\n",
    "        filtroEleitoresTotal = filtroCidade['QT_ELEITORES_PERFIL'].sum()\n",
    "        filtroEleitoresFaixaEtaria = filtroCidade.groupby(['DS_FAIXA_ETARIA'])['QT_ELEITORES_PERFIL'].sum()\n",
    "        \n",
    "        faixa18 = (filtroEleitoresFaixaEtaria[filtroEleitoresFaixaEtaria.index.str.startswith('18 anos')]).values\n",
    "        faixa19 = (filtroEleitoresFaixaEtaria[filtroEleitoresFaixaEtaria.index.str.startswith('19 anos')]).values\n",
    "        faixa20 = (filtroEleitoresFaixaEtaria[filtroEleitoresFaixaEtaria.index.str.startswith('20 anos')]).values\n",
    "        faixa21 = (filtroEleitoresFaixaEtaria[filtroEleitoresFaixaEtaria.index.str.startswith('21 a 24 anos')]).values\n",
    "        faixa25a29 = (filtroEleitoresFaixaEtaria[filtroEleitoresFaixaEtaria.index.str.startswith('25 a 29 anos')]).values\n",
    "        \n",
    "        faixa60 = (filtroEleitoresFaixaEtaria[filtroEleitoresFaixaEtaria.index.str.startswith('60 a 64 anos')]).values\n",
    "        faixa65 = (filtroEleitoresFaixaEtaria[filtroEleitoresFaixaEtaria.index.str.startswith('65 a 69 anos')]).values\n",
    "        faixa70 = (filtroEleitoresFaixaEtaria[filtroEleitoresFaixaEtaria.index.str.startswith('70 a 74 anos')]).values\n",
    "        faixa75 = (filtroEleitoresFaixaEtaria[filtroEleitoresFaixaEtaria.index.str.startswith('75 a 79 anos')]).values\n",
    "        faixa80 = (filtroEleitoresFaixaEtaria[filtroEleitoresFaixaEtaria.index.str.startswith('80 a 84 anos')]).values\n",
    "        faixa85 = (filtroEleitoresFaixaEtaria[filtroEleitoresFaixaEtaria.index.str.startswith('85 a 89 anos')]).values\n",
    "        faixa90 = (filtroEleitoresFaixaEtaria[filtroEleitoresFaixaEtaria.index.str.startswith('90 a 94 anos')]).values\n",
    "        faixa95 = (filtroEleitoresFaixaEtaria[filtroEleitoresFaixaEtaria.index.str.startswith('95 a 99 anos')]).values\n",
    "        faixa100 = (filtroEleitoresFaixaEtaria[filtroEleitoresFaixaEtaria.index.str.startswith('100 anos ou mais')]).values\n",
    "        \n",
    "        if len(faixa18) == 0: faixa18 = [0]\n",
    "        if len(faixa19) == 0: faixa19 = [0]\n",
    "        if len(faixa20) == 0: faixa20 = [0]\n",
    "        if len(faixa21) == 0: faixa21 = [0]\n",
    "        if len(faixa25a29) == 0: faixa25a29 = [0]    \n",
    "        if len(faixa60) == 0: faixa60 = [0]\n",
    "        if len(faixa65) == 0: faixa65 = [0]\n",
    "        if len(faixa70) == 0: faixa70 = [0]\n",
    "        if len(faixa75) == 0: faixa75 = [0]\n",
    "        if len(faixa80) == 0: faixa80 = [0]\n",
    "        if len(faixa85) == 0: faixa85 = [0]\n",
    "        if len(faixa90) == 0: faixa90 = [0]\n",
    "        if len(faixa95) == 0: faixa95 = [0]\n",
    "        if len(faixa100) == 0: faixa100 = [0]\n",
    "        \n",
    "        faixa18 = faixa18[0]\n",
    "        faixa19 = faixa19[0]\n",
    "        faixa20 = faixa20[0]\n",
    "        faixa21 = faixa21[0]\n",
    "        faixa25a29 = faixa25a29[0]\n",
    "        faixa60 = faixa60[0]\n",
    "        faixa65 = faixa65[0]\n",
    "        faixa70 = faixa70[0]\n",
    "        faixa75 = faixa75[0]\n",
    "        faixa80 = faixa80[0]\n",
    "        faixa85 = faixa85[0]\n",
    "        faixa90 = faixa90[0]\n",
    "        faixa95 = faixa95[0]\n",
    "        faixa100 = faixa100[0]\n",
    "        \n",
    "        total_jovens = faixa18 + faixa19 + faixa20 + faixa21 + faixa25a29\n",
    "        total_idosos = faixa60 + faixa65 + faixa70 + faixa75 + faixa80 + faixa85 + faixa90 + faixa95 + faixa100\n",
    "        \n",
    "        dft = pd.DataFrame({\"REGIÃO\":abr_code[\"regiao\"], \"MUNICÍPIO\":abr_code[\"cidade\"], \"TOTAL JOVENS\":[total_jovens], \"TOTAL IDOSOS\":[total_idosos]})\n",
    "        listResults.append(dft)\n",
    "\n",
    "dfm = pd.concat(listResults)\n",
    "dfm.plot(kind=\"barh\")"
   ]
  }
 ],
 "metadata": {
  "kernelspec": {
   "display_name": "Python 3 (ipykernel)",
   "language": "python",
   "name": "python3"
  },
  "language_info": {
   "codemirror_mode": {
    "name": "ipython",
    "version": 3
   },
   "file_extension": ".py",
   "mimetype": "text/x-python",
   "name": "python",
   "nbconvert_exporter": "python",
   "pygments_lexer": "ipython3",
   "version": "3.10.3"
  }
 },
 "nbformat": 4,
 "nbformat_minor": 2
}
