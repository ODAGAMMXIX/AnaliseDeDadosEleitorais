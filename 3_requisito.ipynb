{
 "cells": [
  {
   "cell_type": "code",
   "execution_count": 1,
   "metadata": {},
   "outputs": [
    {
     "name": "stdout",
     "output_type": "stream",
     "text": [
      "557    24335.0\n",
      "Name: 2019, dtype: float64\n"
     ]
    }
   ],
   "source": [
    "# 4.1\n",
    "import pandas as pd\n",
    "import plotly.graph_objects as go\n",
    "import csv\n",
    "\n",
    "csvCadastro = './dados/cadastro_central_de_empresas.csv'\n",
    "\n",
    "data = pd.read_csv(csvCadastro, sep= ',', encoding='UTF-8')\n",
    "df_sp = pd.DataFrame(data.query('Nome == \"Unidades locais\"'))\n",
    "# print(data)\n",
    "test = df_sp.query('Localidade == \"São José dos Campos\"')['2019']\n",
    "\n",
    "print(test)\n",
    "\n",
    "\n",
    "# queryString = 'CD_MUNICIPIO == 70998 or CD_MUNICIPIO == 66893'\n",
    "\n",
    "# data.query(queryString, inplace = True)"
   ]
  }
 ],
 "metadata": {
  "kernelspec": {
   "display_name": "Python 3 (ipykernel)",
   "language": "python",
   "name": "python3"
  },
  "language_info": {
   "codemirror_mode": {
    "name": "ipython",
    "version": 3
   },
   "file_extension": ".py",
   "mimetype": "text/x-python",
   "name": "python",
   "nbconvert_exporter": "python",
   "pygments_lexer": "ipython3",
   "version": "3.10.3"
  }
 },
 "nbformat": 4,
 "nbformat_minor": 2
}
